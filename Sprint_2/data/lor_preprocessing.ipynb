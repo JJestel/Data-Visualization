{
 "cells": [
  {
   "cell_type": "code",
   "execution_count": 1,
   "metadata": {},
   "outputs": [],
   "source": [
    "import numpy as np\n",
    "import pandas as pd\n",
    "from pyproj import CRS, Transformer\n",
    "import json\n",
    "from pyproj import Transformer"
   ]
  },
  {
   "cell_type": "code",
   "execution_count": 2,
   "metadata": {},
   "outputs": [
    {
     "data": {
      "text/plain": [
       "(52.50954426144512, 13.35021219450954)"
      ]
     },
     "execution_count": 2,
     "metadata": {},
     "output_type": "execute_result"
    }
   ],
   "source": [
    "transformer = Transformer.from_crs(25833, 4326)\n",
    "transformer.transform(388035.590687901247293, 5818992.812802517786622)"
   ]
  },
  {
   "cell_type": "code",
   "execution_count": 3,
   "metadata": {},
   "outputs": [],
   "source": [
    "path = \"/Users/jascha/Documents/Data Science Master/3_sem/Data Visualization/Data-Visualization/Sprint_2/data/\"\n",
    "files = ['lor_bezirksregionen_2021', 'lor_planungsraeume_2021', 'lor_prognoseraeume_2021']\n",
    "\n",
    "for name in files:\n",
    "    f = open(path+name+\".geojson\")\n",
    "    data = json.load(f, encoding='utf-8')\n",
    "    data['crs']['properties']['name'] = \"urn:ogc:def:crs:EPSG::4326\"\n",
    "\n",
    "    for i in range(len(data['features'])):\n",
    "        for j, el in enumerate(data['features'][i]['geometry']['coordinates'][0][0]):\n",
    "            x, y = transformer.transform(*el)\n",
    "            data['features'][i]['geometry']['coordinates'][0][0][j][0] = y\n",
    "            data['features'][i]['geometry']['coordinates'][0][0][j][1] = x\n",
    "\n",
    "    with open(path+name+\"_wgs84\"+\".geojson\", \"w\", encoding='utf-8') as outfile:\n",
    "        json.dump(data, outfile, ensure_ascii=False)"
   ]
  }
 ],
 "metadata": {
  "kernelspec": {
   "display_name": "viz",
   "language": "python",
   "name": "python3"
  },
  "language_info": {
   "codemirror_mode": {
    "name": "ipython",
    "version": 3
   },
   "file_extension": ".py",
   "mimetype": "text/x-python",
   "name": "python",
   "nbconvert_exporter": "python",
   "pygments_lexer": "ipython3",
   "version": "3.8.13"
  },
  "orig_nbformat": 4,
  "vscode": {
   "interpreter": {
    "hash": "bff54986a7cbda8323201c672fe213c866b32d7f1f6174a545135c943756c3ea"
   }
  }
 },
 "nbformat": 4,
 "nbformat_minor": 2
}
