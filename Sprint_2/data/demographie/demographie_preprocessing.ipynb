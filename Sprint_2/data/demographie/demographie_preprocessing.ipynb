{
 "cells": [
  {
   "cell_type": "code",
   "execution_count": 20,
   "metadata": {},
   "outputs": [],
   "source": [
    "import numpy as np\n",
    "import pandas as pd\n",
    "import json"
   ]
  },
  {
   "cell_type": "code",
   "execution_count": 72,
   "metadata": {},
   "outputs": [],
   "source": [
    "df = pd.read_csv(\"demographie.csv\", delimiter=\";\", na_values=\"–\", dtype='object')\n",
    "df['PLR_ID'] = df['a'] + df['b'] + df['c'] + df['d']\n",
    "df = df.drop(columns=['a', 'b', 'c', 'd'])\n",
    "\n",
    "df[df.columns[:-1]] = df[df.columns[:-1]].astype(np.float64)\n",
    "\n",
    "df = df.set_index(df['PLR_ID'])\n",
    "df.to_json(r'test.json', orient='index', force_ascii=False)"
   ]
  }
 ],
 "metadata": {
  "kernelspec": {
   "display_name": "viz",
   "language": "python",
   "name": "python3"
  },
  "language_info": {
   "codemirror_mode": {
    "name": "ipython",
    "version": 3
   },
   "file_extension": ".py",
   "mimetype": "text/x-python",
   "name": "python",
   "nbconvert_exporter": "python",
   "pygments_lexer": "ipython3",
   "version": "3.8.13 | packaged by conda-forge | (default, Mar 25 2022, 06:05:16) \n[Clang 12.0.1 ]"
  },
  "orig_nbformat": 4,
  "vscode": {
   "interpreter": {
    "hash": "bff54986a7cbda8323201c672fe213c866b32d7f1f6174a545135c943756c3ea"
   }
  }
 },
 "nbformat": 4,
 "nbformat_minor": 2
}
